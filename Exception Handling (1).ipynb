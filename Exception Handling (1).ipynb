{
 "cells": [
  {
   "cell_type": "code",
   "execution_count": 1,
   "id": "2bfafb98-9c71-4449-b1da-f20665edc274",
   "metadata": {},
   "outputs": [
    {
     "data": {
      "text/plain": [
       "'An Exception is an occurrence that takes place during the execution of a program that disrupts the normal flow of the program.\\nIt is a way to handle an exceptional conditions or errors that can occur during program execution using mechanisms like try-except blocks.'"
      ]
     },
     "execution_count": 1,
     "metadata": {},
     "output_type": "execute_result"
    }
   ],
   "source": [
    "#Q1.\n",
    "\n",
    "\"\"\"An Exception is an occurrence that takes place during the execution of a program that disrupts the normal flow of the program.\n",
    "It is a way to handle an exceptional conditions or errors that can occur during program execution using mechanisms like try-except blocks.\"\"\"\n",
    "\n",
    "# Exceptions vs Syntax Error\n",
    "# While exceptions are errors that occur during program execution due to exceptional conditions, syntax errors are errors detected by the interpreter during the compilation phase due to violations of the programming's syntax rules. \n",
    "# Exceptions can be caught and handled, while syntax errors need to be fixed before the program can be executed."
   ]
  },
  {
   "cell_type": "code",
   "execution_count": 11,
   "id": "d70f976b-fc02-41d3-a6d5-e1d15b93eba6",
   "metadata": {},
   "outputs": [
    {
     "name": "stdin",
     "output_type": "stream",
     "text": [
      "Enter the first number:  5\n",
      "Enter the second number:  a\n"
     ]
    }
   ],
   "source": [
    "#Q2.\n",
    "\n",
    "# When an exception is not handled in a program, it results in the termination of the program's execution and an error message is displayed to the user.\n",
    "\n",
    "# Let's consider an example when an exception is not handled\n",
    "\n",
    "# Suppose we prompt the user to enter two numbers and calculates their division. \n",
    "# There could be a scenario when the user enters an invalid input, such as a non-numeric value or zero, as the second number.\n",
    "\n",
    "import logging\n",
    "logging.basicConfig (filename = \"error.txt\", level = logging.ERROR)\n",
    "\n",
    "    \n",
    "try:\n",
    "    num1 = int(input(\"Enter the first number: \"))\n",
    "    num2 = int(input(\"Enter the second number: \"))\n",
    "        \n",
    "    result = num1/num2\n",
    "    print(\"Result = {}\".format(result))\n",
    "        \n",
    "except ZeroDivisionError as e:\n",
    "    logging.error(\"Cannot divide by zero {}\".format(e))\n",
    "        \n",
    "except ValueError as e:\n",
    "    logging.error(\"Invalid input. Please enter numberic values greater than zero {}\".format(e))\n"
   ]
  },
  {
   "cell_type": "code",
   "execution_count": 6,
   "id": "54b19bd6-905c-4f5f-b2b9-58106b156850",
   "metadata": {},
   "outputs": [],
   "source": [
    "#Q3.\n",
    "\n",
    "# The statements used to catch and handle exceptions are try and except. \n",
    "# The try block encloses the code that may raise an exception (in other words, we can include all those lines of code that we feel suspicious when executed sequentially).\n",
    "# And, the except block is used to specify the actions to be taken if a specific exception occurs.\n",
    "\n",
    "import logging\n",
    "\n",
    "logging.basicConfig (filename = \"error.txt\", level = logging.ERROR)\n",
    "\n",
    "\n",
    "class PasswordValidation(Exception):\n",
    "    pass\n",
    "\n",
    "def validate_password(password):\n",
    "    \n",
    "    if len(password) < 8:\n",
    "        raise PasswordValidation (\"Password must be atleast 8 characters long\")\n",
    "    if not any(i.isdigit() for i in password):\n",
    "        raise PasswordValidation (\"Password must contain atleast one digit\")\n",
    "    if not any(i.isalpha() for i in password):\n",
    "        raise PasswordValidation (\"Password must contain atleast one letter\")"
   ]
  },
  {
   "cell_type": "code",
   "execution_count": 7,
   "id": "0bb89cbf-efad-4c48-ae5c-8e45fb64a5e1",
   "metadata": {},
   "outputs": [
    {
     "name": "stdin",
     "output_type": "stream",
     "text": [
      "Enter your password:  zfs5678fg\n"
     ]
    },
    {
     "name": "stdout",
     "output_type": "stream",
     "text": [
      "Password is valid.\n"
     ]
    }
   ],
   "source": [
    " try:\n",
    "        password = input(\"Enter your password: \")\n",
    "        validate_password(password)\n",
    "        print (\"Password is valid.\")\n",
    "        \n",
    "except PasswordValidation as e:\n",
    "        logging.error(\"Invalid password: {}\".format(e))"
   ]
  },
  {
   "cell_type": "code",
   "execution_count": 4,
   "id": "f4f95b0e-9083-407e-91c2-eaf3d35b14da",
   "metadata": {},
   "outputs": [],
   "source": [
    "class AgeVerificationError(Exception):\n",
    "    pass\n",
    "\n",
    "def verify_age(age):\n",
    "    try:\n",
    "        age = int(age)\n",
    "        if age < 18:\n",
    "            raise AgeVerificationError(\"Age should be 18 or above.\")\n",
    "    except ValueError:\n",
    "        raise AgeVerificationError(\"Invalid age value.\")\n",
    "\n",
    "    else:\n",
    "        print(\"Age verification successful. Access granted.\")\n",
    "\n",
    "    finally:\n",
    "        # Perform any cleanup or resource release here\n",
    "        print(\"Program cleanup complete.\")"
   ]
  },
  {
   "cell_type": "code",
   "execution_count": 7,
   "id": "ee188286-5317-45ae-9da6-24282bc4b80a",
   "metadata": {},
   "outputs": [
    {
     "name": "stdin",
     "output_type": "stream",
     "text": [
      "Enter your age:  a\n"
     ]
    },
    {
     "name": "stdout",
     "output_type": "stream",
     "text": [
      "Program cleanup complete.\n",
      "Age verification error: Invalid age value.\n"
     ]
    }
   ],
   "source": [
    "try:\n",
    "    user_age = input(\"Enter your age: \")\n",
    "    verify_age(user_age)\n",
    "\n",
    "except AgeVerificationError as e:\n",
    "    print(f\"Age verification error: {str(e)}\")"
   ]
  },
  {
   "cell_type": "code",
   "execution_count": 7,
   "id": "19fc3650-3044-4de9-a3bd-2af5a3ff75cb",
   "metadata": {},
   "outputs": [],
   "source": [
    "#Q5.\n",
    "\n",
    "\"\"\"Custom Exceptions are user-defined exceptions that inherit from the built-in Exception class. \n",
    "They are necessary to handle specific errors or exceptional conditions in a more meaningful and precise way. \n",
    "\n",
    "Custom Exceptions are helpful in following ways:\n",
    "\n",
    "1. Code readability\n",
    "2. Allows one to handle specific error and enable them to take appropriate actions based on the exception type.\n",
    "3. Enhance modularity and reusability by encapsulating related errors within a single exception class. \n",
    "4. Empower better understanding and troubleshooting when custom error messages are handled.\"\"\"\n",
    "\n",
    "#custom exception for invalid data\n",
    "class InvalidDataException(Exception):\n",
    "    \n",
    "    def __init__(self, message):\n",
    "        self.message = message\n",
    "\n",
    "#Data analysis function        \n",
    "def analyze_data (data):\n",
    "    \n",
    "    for value in data:\n",
    "        if value < 0 or value > 100:\n",
    "            raise InvalidDataException(\"Invalid data: contains outliers or invalid values.\")\n",
    "        \n",
    "    #Perform data analysis (example: calculate average)\n",
    "    total = sum(data)\n",
    "    average = total / len(data)\n",
    "    return average\n"
   ]
  },
  {
   "cell_type": "code",
   "execution_count": 8,
   "id": "3db6bfd2-0b9f-45cc-a183-05239ca89e05",
   "metadata": {},
   "outputs": [],
   "source": [
    "import logging\n",
    "logging.basicConfig (filename = \"result.txt\", level = logging.INFO)\n",
    "try:\n",
    "    data = [85, 92, 78, 101, 90]\n",
    "    result = analyze_data(data)\n",
    "    logging.info (\"Average: {}\".format(result))\n",
    "except InvalidDataException as e:\n",
    "    logging.error(e)"
   ]
  },
  {
   "cell_type": "code",
   "execution_count": 1,
   "id": "ae28adc3-f9e1-4635-9481-9b06b34ec393",
   "metadata": {},
   "outputs": [],
   "source": [
    "#Q6.\n",
    "\n",
    "#Creating a program to process network requests, but raising a custom exception if the request times out or fails.\n",
    "\n",
    "import requests\n",
    "\n",
    "class NetworkException (Exception):\n",
    "    pass\n",
    "\n",
    "def process_request(url):\n",
    "    \n",
    "    try:\n",
    "        \n",
    "        response = requests.get(url, timeout=5)\n",
    "        \n",
    "        if response.status_code == 200:\n",
    "            print(\"Request Successful\")\n",
    "            \n",
    "        else:\n",
    "            raise NetworkException(\"Request failed with status code: {}\".format(response.status_code))\n",
    "    \n",
    "    except requests.exceptions.Timeout:\n",
    "        \n",
    "        raise NetworkException(\"Request timed out\")\n",
    "        \n",
    "    except requests.exceptions.RequestException:\n",
    "        \n",
    "        raise NetworkException(\"Request failed\")"
   ]
  },
  {
   "cell_type": "code",
   "execution_count": 7,
   "id": "07e01342-1e71-432c-9e53-e17bfc2583cf",
   "metadata": {},
   "outputs": [],
   "source": [
    "import logging\n",
    "logging.basicConfig (filename = \"error.txt\", level = logging.ERROR)\n",
    "try:\n",
    "    process_request(\"https://arjunvpatel.com/\")\n",
    "except NetworkException as e:\n",
    "    logging.error (\"An error occurred: {}\".format(e))"
   ]
  },
  {
   "cell_type": "code",
   "execution_count": null,
   "id": "6a7beae6-ef15-435d-933b-b98ea1987adc",
   "metadata": {},
   "outputs": [],
   "source": []
  }
 ],
 "metadata": {
  "kernelspec": {
   "display_name": "Python 3 (ipykernel)",
   "language": "python",
   "name": "python3"
  },
  "language_info": {
   "codemirror_mode": {
    "name": "ipython",
    "version": 3
   },
   "file_extension": ".py",
   "mimetype": "text/x-python",
   "name": "python",
   "nbconvert_exporter": "python",
   "pygments_lexer": "ipython3",
   "version": "3.10.8"
  }
 },
 "nbformat": 4,
 "nbformat_minor": 5
}
